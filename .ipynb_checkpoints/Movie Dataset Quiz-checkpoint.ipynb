{
 "cells": [
  {
   "cell_type": "markdown",
   "id": "536cf471",
   "metadata": {},
   "source": [
    "Importing Libraries"
   ]
  },
  {
   "cell_type": "code",
   "execution_count": 1,
   "id": "79d1ebbd",
   "metadata": {},
   "outputs": [],
   "source": [
    "import pandas as pd\n",
    "import numpy as np"
   ]
  },
  {
   "cell_type": "markdown",
   "id": "b1035d19",
   "metadata": {},
   "source": [
    "Loading the dataset"
   ]
  },
  {
   "cell_type": "code",
   "execution_count": 73,
   "id": "effc9dd4",
   "metadata": {},
   "outputs": [],
   "source": [
    "df = pd.read_csv('movies_data.csv')"
   ]
  },
  {
   "cell_type": "code",
   "execution_count": 74,
   "id": "cb1eaff9",
   "metadata": {},
   "outputs": [
    {
     "data": {
      "text/html": [
       "<div>\n",
       "<style scoped>\n",
       "    .dataframe tbody tr th:only-of-type {\n",
       "        vertical-align: middle;\n",
       "    }\n",
       "\n",
       "    .dataframe tbody tr th {\n",
       "        vertical-align: top;\n",
       "    }\n",
       "\n",
       "    .dataframe thead th {\n",
       "        text-align: right;\n",
       "    }\n",
       "</style>\n",
       "<table border=\"1\" class=\"dataframe\">\n",
       "  <thead>\n",
       "    <tr style=\"text-align: right;\">\n",
       "      <th></th>\n",
       "      <th>1</th>\n",
       "      <th>The Nightmare Before Christmas</th>\n",
       "      <th>1993</th>\n",
       "      <th>3.9</th>\n",
       "      <th>4568</th>\n",
       "    </tr>\n",
       "  </thead>\n",
       "  <tbody>\n",
       "    <tr>\n",
       "      <th>0</th>\n",
       "      <td>2</td>\n",
       "      <td>The Mummy</td>\n",
       "      <td>1932</td>\n",
       "      <td>3.5</td>\n",
       "      <td>4388.0</td>\n",
       "    </tr>\n",
       "    <tr>\n",
       "      <th>1</th>\n",
       "      <td>3</td>\n",
       "      <td>Orphans of the Storm</td>\n",
       "      <td>1921</td>\n",
       "      <td>3.2</td>\n",
       "      <td>9062.0</td>\n",
       "    </tr>\n",
       "    <tr>\n",
       "      <th>2</th>\n",
       "      <td>4</td>\n",
       "      <td>The Object of Beauty</td>\n",
       "      <td>1991</td>\n",
       "      <td>2.8</td>\n",
       "      <td>6150.0</td>\n",
       "    </tr>\n",
       "    <tr>\n",
       "      <th>3</th>\n",
       "      <td>5</td>\n",
       "      <td>Night Tide</td>\n",
       "      <td>1963</td>\n",
       "      <td>2.8</td>\n",
       "      <td>5126.0</td>\n",
       "    </tr>\n",
       "    <tr>\n",
       "      <th>4</th>\n",
       "      <td>6</td>\n",
       "      <td>One Magic Christmas</td>\n",
       "      <td>1985</td>\n",
       "      <td>3.8</td>\n",
       "      <td>5333.0</td>\n",
       "    </tr>\n",
       "  </tbody>\n",
       "</table>\n",
       "</div>"
      ],
      "text/plain": [
       "   1 The Nightmare Before Christmas  1993  3.9    4568\n",
       "0  2                      The Mummy  1932  3.5  4388.0\n",
       "1  3           Orphans of the Storm  1921  3.2  9062.0\n",
       "2  4           The Object of Beauty  1991  2.8  6150.0\n",
       "3  5                     Night Tide  1963  2.8  5126.0\n",
       "4  6            One Magic Christmas  1985  3.8  5333.0"
      ]
     },
     "execution_count": 74,
     "metadata": {},
     "output_type": "execute_result"
    }
   ],
   "source": [
    "df.head()"
   ]
  },
  {
   "cell_type": "code",
   "execution_count": 70,
   "id": "362bf637",
   "metadata": {},
   "outputs": [],
   "source": [
    "df2 = {'1':'Number','2':'year','3':'rating','4':'downloads'}"
   ]
  },
  {
   "cell_type": "markdown",
   "id": "e1221945",
   "metadata": {},
   "source": [
    "dataset.head()"
   ]
  },
  {
   "cell_type": "code",
   "execution_count": 8,
   "id": "af73247a",
   "metadata": {},
   "outputs": [
    {
     "name": "stdout",
     "output_type": "stream",
     "text": [
      "<class 'pandas.core.frame.DataFrame'>\n",
      "RangeIndex: 49589 entries, 0 to 49588\n",
      "Data columns (total 5 columns):\n",
      " #   Column     Non-Null Count  Dtype  \n",
      "---  ------     --------------  -----  \n",
      " 0   1          49589 non-null  int64  \n",
      " 1   movies     49589 non-null  object \n",
      " 2   year       49589 non-null  int64  \n",
      " 3   rating     10813 non-null  float64\n",
      " 4   downloads  45835 non-null  float64\n",
      "dtypes: float64(2), int64(2), object(1)\n",
      "memory usage: 1.9+ MB\n"
     ]
    }
   ],
   "source": [
    "dataset.info()"
   ]
  },
  {
   "cell_type": "code",
   "execution_count": 9,
   "id": "7bc4187d",
   "metadata": {},
   "outputs": [
    {
     "data": {
      "text/plain": [
       "1                0\n",
       "movies           0\n",
       "year             0\n",
       "rating       38776\n",
       "downloads     3754\n",
       "dtype: int64"
      ]
     },
     "execution_count": 9,
     "metadata": {},
     "output_type": "execute_result"
    }
   ],
   "source": [
    "dataset.isnull().sum()"
   ]
  },
  {
   "cell_type": "code",
   "execution_count": 10,
   "id": "b62da6b4",
   "metadata": {},
   "outputs": [
    {
     "ename": "NameError",
     "evalue": "name 'inplace' is not defined",
     "output_type": "error",
     "traceback": [
      "\u001b[1;31m---------------------------------------------------------------------------\u001b[0m",
      "\u001b[1;31mNameError\u001b[0m                                 Traceback (most recent call last)",
      "\u001b[1;32m~\\AppData\\Local\\Temp/ipykernel_8252/4007684976.py\u001b[0m in \u001b[0;36m<module>\u001b[1;34m\u001b[0m\n\u001b[1;32m----> 1\u001b[1;33m \u001b[0mdataset\u001b[0m\u001b[1;33m.\u001b[0m\u001b[0mdropna\u001b[0m\u001b[1;33m(\u001b[0m\u001b[1;34m'ratings'\u001b[0m\u001b[1;33m,\u001b[0m \u001b[0minplace\u001b[0m\u001b[1;33m)\u001b[0m\u001b[1;33m\u001b[0m\u001b[1;33m\u001b[0m\u001b[0m\n\u001b[0m",
      "\u001b[1;31mNameError\u001b[0m: name 'inplace' is not defined"
     ]
    }
   ],
   "source": [
    "dataset.dropna('ratings', inplace)"
   ]
  },
  {
   "cell_type": "code",
   "execution_count": null,
   "id": "76e03dc8",
   "metadata": {},
   "outputs": [],
   "source": []
  },
  {
   "cell_type": "code",
   "execution_count": null,
   "id": "55a3999e",
   "metadata": {},
   "outputs": [],
   "source": []
  }
 ],
 "metadata": {
  "kernelspec": {
   "display_name": "Python 3 (ipykernel)",
   "language": "python",
   "name": "python3"
  },
  "language_info": {
   "codemirror_mode": {
    "name": "ipython",
    "version": 3
   },
   "file_extension": ".py",
   "mimetype": "text/x-python",
   "name": "python",
   "nbconvert_exporter": "python",
   "pygments_lexer": "ipython3",
   "version": "3.9.7"
  },
  "toc": {
   "base_numbering": 1,
   "nav_menu": {},
   "number_sections": true,
   "sideBar": true,
   "skip_h1_title": false,
   "title_cell": "Table of Contents",
   "title_sidebar": "Contents",
   "toc_cell": false,
   "toc_position": {},
   "toc_section_display": true,
   "toc_window_display": false
  }
 },
 "nbformat": 4,
 "nbformat_minor": 5
}
